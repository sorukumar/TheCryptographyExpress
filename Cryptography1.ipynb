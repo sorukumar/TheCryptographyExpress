{
 "cells": [
  {
   "cell_type": "markdown",
   "id": "a0e654bb-1186-4c5a-bcf5-be4d4e10022e",
   "metadata": {},
   "source": [
    "# Cryptography: From Ancient Secrets to Modern Security\n",
    "\n",
    "## 1. Introduction to Cryptography\n",
    "\n",
    "Imagine you're passing notes in class, but you don't want anyone else to read them. That's essentially what cryptography is all about – keeping secrets secret. But instead of folding the paper into intricate shapes, we use math to scramble our messages.\n",
    "\n",
    "Cryptography is the art and science of secure communication in the presence of adversaries. It's been around for thousands of years, from ancient Egyptian hieroglyphs to the Enigma machine in World War II. Today, it's the backbone of digital security, protecting everything from your WhatsApp messages to your Bitcoin transactions.\n",
    "\n",
    "## 2. Cryptography Categories\n",
    "\n",
    "Before we dive into the nitty-gritty, let's break down cryptography into three main categories:\n",
    "\n",
    "1. **Symmetric-key cryptography**: Like a secret handshake between friends. Both parties use the same key to encrypt and decrypt messages.\n",
    "\n",
    "2. **Public-key cryptography**: Think of it as a magical mailbox. Anyone can put a message in (encrypt), but only you have the key to open it (decrypt).\n",
    "\n",
    "3. **Hash functions**: Imagine a paper shredder that always produces the same pattern of confetti for the same document, no matter how many times you shred it.\n",
    "\n",
    "Let's explore each of these in more detail!\n",
    "\n",
    "## 3. Symmetric-key Cryptography\n",
    "\n",
    "Symmetric-key cryptography is like having a secret language with your best friend. You both know the rules to encode and decode messages, but anyone else listening in would be completely lost.\n",
    "\n",
    "### How it works (intuitively):\n",
    "\n",
    "1. You and your friend agree on a secret key (let's say, \"shift each letter 3 places in the alphabet\").\n",
    "2. To send \"HELLO\", you shift each letter 3 places: \"KHOOR\".\n",
    "3. Your friend receives \"KHOOR\" and shifts each letter back 3 places to get \"HELLO\".\n",
    "\n",
    "Of course, real symmetric encryption is much more complex, but the idea is the same – both parties use the same key to encrypt and decrypt.\n",
    "\n",
    "Let's look at a simple example using the Caesar cipher:"
   ]
  },
  {
   "cell_type": "code",
   "execution_count": 1,
   "id": "1cb1af0d-0fb4-4527-83a2-b44ac4ee52f9",
   "metadata": {},
   "outputs": [
    {
     "name": "stdout",
     "output_type": "stream",
     "text": [
      "Original: HELLO WORLD\n",
      "Encrypted: KHOOR ZRUOG\n",
      "Decrypted: HELLO WORLD\n"
     ]
    }
   ],
   "source": [
    "def caesar_cipher(text, shift, mode='encrypt'):\n",
    "  result = \"\"\n",
    "  for char in text:\n",
    "      if char.isalpha():\n",
    "          ascii_offset = 65 if char.isupper() else 97\n",
    "          if mode == 'encrypt':\n",
    "              result += chr((ord(char) - ascii_offset + shift) % 26 + ascii_offset)\n",
    "          else:  # decrypt\n",
    "              result += chr((ord(char) - ascii_offset - shift) % 26 + ascii_offset)\n",
    "      else:\n",
    "          result += char\n",
    "  return result\n",
    "\n",
    "# Example usage\n",
    "message = \"HELLO WORLD\"\n",
    "shift = 3\n",
    "\n",
    "encrypted = caesar_cipher(message, shift, 'encrypt')\n",
    "decrypted = caesar_cipher(encrypted, shift, 'decrypt')\n",
    "\n",
    "print(f\"Original: {message}\")\n",
    "print(f\"Encrypted: {encrypted}\")\n",
    "print(f\"Decrypted: {decrypted}\")"
   ]
  },
  {
   "cell_type": "markdown",
   "id": "2a04b5c6-c95b-477b-ad7a-b24f122ea3ba",
   "metadata": {},
   "source": [
    "This simple Caesar cipher demonstrates the basic concept of symmetric encryption. However, modern symmetric encryption algorithms like AES (Advanced Encryption Standard) are much more sophisticated and secure.\n",
    "\n",
    "### Pros of Symmetric-key Cryptography:\n",
    "1. Fast and efficient for large amounts of data\n",
    "2. Relatively simple to implement\n",
    "\n",
    "### Cons of Symmetric-key Cryptography:\n",
    "1. Key distribution problem: How do you securely share the key?\n",
    "2. Scalability issues: Need a unique key for each pair of communicating parties\n",
    "\n",
    "## 4. Public-key Cryptography\n",
    "\n",
    "Public-key cryptography solves the key distribution problem of symmetric cryptography. It's like having a public mailbox and a private key. Anyone can put a letter in your mailbox (encrypt a message with your public key), but only you can open it (decrypt with your private key).\n",
    "\n",
    "### How it works (intuitively):\n",
    "\n",
    "1. You generate two keys: a public key (shared with everyone) and a private key (kept secret).\n",
    "2. Anyone can encrypt a message using your public key.\n",
    "3. Only you can decrypt the message using your private key.\n",
    "\n",
    "Let's implement a simple (but insecure) version of public-key cryptography to illustrate the concept:"
   ]
  },
  {
   "cell_type": "code",
   "execution_count": 3,
   "id": "96f513e9-226d-4343-8289-b725c03ea730",
   "metadata": {},
   "outputs": [
    {
     "name": "stdout",
     "output_type": "stream",
     "text": [
      "Original: HELLO WORLD\n",
      "Encrypted: [1780, 2082, 76, 76, 2458, 2106, 1612, 2458, 1546, 76, 3057]\n",
      "Decrypted: HELLO WORLD\n"
     ]
    }
   ],
   "source": [
    "import random\n",
    "import math\n",
    "\n",
    "def generate_keypair(p, q):\n",
    "  n = p * q\n",
    "  phi = (p - 1) * (q - 1)\n",
    "  \n",
    "  # Choose e\n",
    "  e = random.randrange(1, phi)\n",
    "  while math.gcd(e, phi) != 1:\n",
    "      e = random.randrange(1, phi)\n",
    "  \n",
    "  # Compute d\n",
    "  d = pow(e, -1, phi)\n",
    "  \n",
    "  return ((e, n), (d, n))\n",
    "\n",
    "def encrypt(public_key, plaintext):\n",
    "  e, n = public_key\n",
    "  return [pow(ord(char), e, n) for char in plaintext]\n",
    "\n",
    "def decrypt(private_key, ciphertext):\n",
    "  d, n = private_key\n",
    "  return ''.join([chr(pow(char, d, n)) for char in ciphertext])\n",
    "\n",
    "# Example usage\n",
    "p, q = 61, 53  # In practice, use much larger primes\n",
    "public_key, private_key = generate_keypair(p, q)\n",
    "\n",
    "message = \"HELLO WORLD\"\n",
    "encrypted = encrypt(public_key, message)\n",
    "decrypted = decrypt(private_key, encrypted)\n",
    "\n",
    "print(f\"Original: {message}\")\n",
    "print(f\"Encrypted: {encrypted}\")\n",
    "print(f\"Decrypted: {decrypted}\")"
   ]
  },
  {
   "cell_type": "markdown",
   "id": "af0e8ecc-3710-4ee6-a4cb-fab266ceda10",
   "metadata": {},
   "source": [
    "This simplified version of RSA (Rivest-Shamir-Adleman) algorithm demonstrates the basic concept of public-key cryptography. Real-world implementations use much larger prime numbers and additional padding schemes for security.\n",
    "\n",
    "### Pros of Public-key Cryptography:\n",
    "1. Solves the key distribution problem\n",
    "2. Enables digital signatures and non-repudiation\n",
    "\n",
    "### Cons of Public-key Cryptography:\n",
    "1. Slower than symmetric-key cryptography\n",
    "2. Requires longer key lengths for equivalent security\n",
    "\n",
    "## 5. Hash Functions\n",
    "\n",
    "Hash functions are the digital equivalent of fingerprints. They take an input (or 'message') and return a fixed-size string of bytes, typically a digest that is unique to the input.\n",
    "\n",
    "### How it works (intuitively):\n",
    "\n",
    "1. You feed any amount of data into the hash function.\n",
    "2. It produces a fixed-size output (e.g., 256 bits for SHA-256).\n",
    "3. The same input always produces the same output.\n",
    "4. It's practically impossible to reverse the process or find two inputs with the same output.\n",
    "\n",
    "Let's implement a simple (but insecure) hash function to illustrate the concept:"
   ]
  },
  {
   "cell_type": "code",
   "execution_count": 4,
   "id": "9efa30cd-bd66-47f7-bfc2-27093f4ff6ba",
   "metadata": {},
   "outputs": [
    {
     "name": "stdout",
     "output_type": "stream",
     "text": [
      "Hash of 'Hello, World!': 5955b815\n",
      "Hash of 'Hello, World': e1d9798c\n"
     ]
    }
   ],
   "source": [
    "def simple_hash(message):\n",
    "  hash_value = 0\n",
    "  for char in message:\n",
    "      hash_value = (hash_value * 31 + ord(char)) & 0xFFFFFFFF\n",
    "  return hex(hash_value)[2:].zfill(8)\n",
    "\n",
    "# Example usage\n",
    "message1 = \"Hello, World!\"\n",
    "message2 = \"Hello, World\"\n",
    "\n",
    "print(f\"Hash of '{message1}': {simple_hash(message1)}\")\n",
    "print(f\"Hash of '{message2}': {simple_hash(message2)}\")"
   ]
  },
  {
   "cell_type": "markdown",
   "id": "af162f95-ad12-4d69-9583-6164cbf582ba",
   "metadata": {},
   "source": [
    "This simple hash function demonstrates the basic concept, but it's not cryptographically secure. In practice, we use well-tested hash functions like SHA-256.\n",
    "\n",
    "### SHA-256 in Action\n",
    "\n",
    "SHA-256 is widely used in cryptocurrencies like Bitcoin. Let's see how it works:"
   ]
  },
  {
   "cell_type": "code",
   "execution_count": 5,
   "id": "2c1e9a65-ecce-44ed-810a-2ae518ba5784",
   "metadata": {},
   "outputs": [
    {
     "name": "stdout",
     "output_type": "stream",
     "text": [
      "SHA-256 of 'Hello, World!': dffd6021bb2bd5b0af676290809ec3a53191dd81c7f70a4b28688a362182986f\n",
      "SHA-256 of 'Hello, World': 03675ac53ff9cd1535ccc7dfcdfa2c458c5218371f418dc136f2d19ac1fbe8a5\n"
     ]
    }
   ],
   "source": [
    "import hashlib\n",
    "\n",
    "def sha256_hash(message):\n",
    "  return hashlib.sha256(message.encode()).hexdigest()\n",
    "\n",
    "# Example usage\n",
    "message1 = \"Hello, World!\"\n",
    "message2 = \"Hello, World\"\n",
    "\n",
    "print(f\"SHA-256 of '{message1}': {sha256_hash(message1)}\")\n",
    "print(f\"SHA-256 of '{message2}': {sha256_hash(message2)}\")"
   ]
  },
  {
   "cell_type": "markdown",
   "id": "7ce4e5ff-4667-4686-ba94-b960db1cee8f",
   "metadata": {},
   "source": [
    "Notice how even a small change in the input produces a completely different hash output.\n",
    "\n",
    "### Pros of Hash Functions:\n",
    "1. Fast to compute\n",
    "2. Deterministic (same input always produces same output)\n",
    "3. Avalanche effect (small changes in input cause large changes in output)\n",
    "\n",
    "### Cons of Hash Functions:\n",
    "1. Potential for collisions (though extremely rare for secure hash functions)\n",
    "2. Cannot be reversed to obtain the original input\n",
    "\n",
    "In the next sections, we'll explore how these cryptographic primitives are used in real-world applications like digital signatures, key exchange protocols, and blockchain technology."
   ]
  },
  {
   "cell_type": "markdown",
   "id": "623812e9-1caf-474a-a154-7ca87528441b",
   "metadata": {},
   "source": [
    "## 6. Cryptography in Practice\n",
    "\n",
    "Now that we've covered the basic building blocks of cryptography, let's see how they're used in real-world applications.\n",
    "\n",
    "### 6.1 Digital Signatures\n",
    "\n",
    "Digital signatures are like electronic fingerprints. They allow you to verify the authenticity and integrity of digital messages or documents. Here's how they work:\n",
    "\n",
    "1. The sender creates a hash of the message.\n",
    "2. The sender encrypts the hash with their private key.\n",
    "3. The encrypted hash is the digital signature, which is sent along with the message.\n",
    "4. The receiver decrypts the signature using the sender's public key.\n",
    "5. The receiver also hashes the received message.\n",
    "6. If the decrypted hash matches the newly computed hash, the signature is valid.\n",
    "\n",
    "Let's implement a simple digital signature system:"
   ]
  },
  {
   "cell_type": "code",
   "execution_count": 7,
   "id": "a6a18fb5-2a6a-4fb5-9ba1-faaaf5d196e8",
   "metadata": {},
   "outputs": [],
   "source": [
    "import hashlib\n",
    "from cryptography.hazmat.primitives import hashes\n",
    "from cryptography.hazmat.primitives.asymmetric import padding, rsa\n",
    "\n",
    "def generate_keys():\n",
    "    private_key = rsa.generate_private_key(\n",
    "        public_exponent=65537,\n",
    "        key_size=2048\n",
    "    )\n",
    "    public_key = private_key.public_key()\n",
    "    return private_key, public_key\n",
    "\n",
    "def sign_message(message, private_key):\n",
    "    signature = private_key.sign(\n",
    "        message.encode(),\n",
    "        padding.PSS(\n",
    "            mgf=padding.MGF1(hashes.SHA256()),\n",
    "            salt_length=padding.PSS.MAX_LENGTH\n",
    "        ),\n",
    "        hashes.SHA256()\n",
    "    )\n",
    "    return signature\n",
    "\n",
    "def verify_signature(message, signature, public_key):\n",
    "    try:\n",
    "        public_key.verify(\n",
    "            signature,\n",
    "            message.encode(),\n",
    "            padding.PSS(\n",
    "                mgf=padding.MGF1(hashes.SHA256()),\n",
    "                salt_length=padding.PSS.MAX_LENGTH\n",
    "            ),\n",
    "            hashes.SHA256()\n",
    "        )\n",
    "        return True\n",
    "    except:\n",
    "        return False\n"
   ]
  },
  {
   "cell_type": "code",
   "execution_count": 8,
   "id": "516038e0-13a8-4244-b91d-867b250df87f",
   "metadata": {},
   "outputs": [
    {
     "name": "stdout",
     "output_type": "stream",
     "text": [
      "Message: Hello, World!\n",
      "Signature valid: True\n"
     ]
    }
   ],
   "source": [
    "# Example usage\n",
    "private_key, public_key = generate_keys()\n",
    "message = \"Hello, World!\"\n",
    "\n",
    "signature = sign_message(message, private_key)\n",
    "is_valid = verify_signature(message, signature, public_key)\n",
    "\n",
    "print(f\"Message: {message}\")\n",
    "print(f\"Signature valid: {is_valid}\")"
   ]
  },
  {
   "cell_type": "code",
   "execution_count": 9,
   "id": "2db6841e-861f-450b-9b73-2590a0085ad0",
   "metadata": {},
   "outputs": [
    {
     "name": "stdout",
     "output_type": "stream",
     "text": [
      "Tampered message: Hello, World? \n",
      "Signature valid for tampered message: False\n"
     ]
    }
   ],
   "source": [
    "# Try to verify with a tampered message\n",
    "tampered_message = \"Hello, World? \"\n",
    "is_valid = verify_signature(tampered_message, signature, public_key)\n",
    "\n",
    "print(f\"Tampered message: {tampered_message}\")\n",
    "print(f\"Signature valid for tampered message: {is_valid}\")"
   ]
  },
  {
   "cell_type": "markdown",
   "id": "024b5c1e-279f-4f43-b93f-c9643a532b31",
   "metadata": {},
   "source": [
    "This example demonstrates how digital signatures can verify both the authenticity (it came from the right person) and integrity (it hasn't been tampered with) of a message.\n",
    "\n",
    "### 6.2 Key Exchange Protocols\n",
    "\n",
    "Key exchange protocols solve a fundamental problem in cryptography: how do two parties agree on a shared secret key over an insecure channel? The most famous of these is the Diffie-Hellman key exchange.\n",
    "\n",
    "Here's how Diffie-Hellman works, intuitively:\n",
    "\n",
    "1. Alice and Bob agree on a public color, say yellow.\n",
    "2. They each choose a secret color (red for Alice, blue for Bob).\n",
    "3. They mix their secret color with the public yellow.\n",
    "4. They exchange these mixed colors.\n",
    "5. They each mix their secret color with the received mixed color.\n",
    "6. They end up with the same final color (yellow-red-blue), which no eavesdropper can determine.\n",
    "\n",
    "Let's implement a simple version of Diffie-Hellman:"
   ]
  },
  {
   "cell_type": "code",
   "execution_count": 11,
   "id": "5365042d-811a-411d-89de-726b53660124",
   "metadata": {},
   "outputs": [],
   "source": [
    "import random\n",
    "\n",
    "def generate_prime():\n",
    "    # In practice, use a cryptographically secure prime\n",
    "    return 23\n",
    "\n",
    "def generate_primitive_root(prime):\n",
    "    # In practice, find a true primitive root\n",
    "    return 5\n",
    "\n",
    "def generate_private_key(prime):\n",
    "    return random.randint(1, prime - 1)\n",
    "\n",
    "def compute_public_key(prime, primitive_root, private_key):\n",
    "    return pow(primitive_root, private_key, prime)\n",
    "\n",
    "def compute_shared_secret(prime, public_key, private_key):\n",
    "    return pow(public_key, private_key, prime)\n"
   ]
  },
  {
   "cell_type": "code",
   "execution_count": 12,
   "id": "1bfb6e32-b37b-4997-b2bf-a2d14f89c5bd",
   "metadata": {},
   "outputs": [
    {
     "name": "stdout",
     "output_type": "stream",
     "text": [
      "Alice's shared secret: 17\n",
      "Bob's shared secret: 17\n"
     ]
    }
   ],
   "source": [
    "# Example usage\n",
    "prime = generate_prime()\n",
    "primitive_root = generate_primitive_root(prime)\n",
    "\n",
    "alice_private = generate_private_key(prime)\n",
    "bob_private = generate_private_key(prime)\n",
    "\n",
    "alice_public = compute_public_key(prime, primitive_root, alice_private)\n",
    "bob_public = compute_public_key(prime, primitive_root, bob_private)\n",
    "\n",
    "alice_shared = compute_shared_secret(prime, bob_public, alice_private)\n",
    "bob_shared = compute_shared_secret(prime, alice_public, bob_private)\n",
    "\n",
    "print(f\"Alice's shared secret: {alice_shared}\")\n",
    "print(f\"Bob's shared secret: {bob_shared}\")"
   ]
  },
  {
   "cell_type": "markdown",
   "id": "2b0c59e3-7750-4ff9-b85f-f45aff0b6c10",
   "metadata": {},
   "source": [
    "In this example, Alice and Bob end up with the same shared secret, which they can then use as a key for symmetric encryption.\n",
    "\n",
    "### 6.3 Blockchain and Cryptocurrencies\n",
    "\n",
    "Blockchain technology, which underlies cryptocurrencies like Bitcoin, relies heavily on cryptographic principles. Let's look at how SHA-256 is used in Bitcoin mining.\n",
    "\n",
    "In Bitcoin, miners compete to find a number (nonce) that, when combined with the block data, produces a hash with a certain number of leading zeros. This is called the Proof of Work.\n",
    "\n",
    "Here's a simplified version of Bitcoin mining:"
   ]
  },
  {
   "cell_type": "code",
   "execution_count": 14,
   "id": "db020366-063c-4fb3-9418-a22062404398",
   "metadata": {},
   "outputs": [
    {
     "name": "stdout",
     "output_type": "stream",
     "text": [
      "Block data: Transaction data: Alice sends 1 BTC to Bob\n",
      "Nonce found: 52144\n",
      "Hash: 000026b0792fe4ab5f18b9ba9e3140c64b5554c221940cbcfca7537c28345eaa\n",
      "Mining took 0.07 seconds\n"
     ]
    }
   ],
   "source": [
    "import hashlib\n",
    "import time\n",
    "\n",
    "def mine_block(block_data, difficulty):\n",
    "    target = \"0\" * difficulty\n",
    "    nonce = 0\n",
    "    start_time = time.time()\n",
    "\n",
    "    while True:\n",
    "        block = f\"{block_data}{nonce}\".encode()\n",
    "        hash_result = hashlib.sha256(block).hexdigest()\n",
    "\n",
    "        if hash_result.startswith(target):\n",
    "            end_time = time.time()\n",
    "            return nonce, hash_result, end_time - start_time\n",
    "\n",
    "        nonce += 1\n",
    "\n",
    "# Example usage\n",
    "block_data = \"Transaction data: Alice sends 1 BTC to Bob\"\n",
    "difficulty = 4\n",
    "\n",
    "nonce, hash_result, duration = mine_block(block_data, difficulty)\n",
    "\n",
    "print(f\"Block data: {block_data}\")\n",
    "print(f\"Nonce found: {nonce}\")\n",
    "print(f\"Hash: {hash_result}\")\n",
    "print(f\"Mining took {duration:.2f} seconds\")\n"
   ]
  },
  {
   "cell_type": "markdown",
   "id": "f59266e6-0182-428f-8cb9-c44a111d4a2b",
   "metadata": {},
   "source": [
    "This simplified example demonstrates the core idea behind Bitcoin mining: finding a nonce that produces a hash with a specific pattern. In reality, Bitcoin uses much higher difficulty levels, making mining computationally intensive and energy-consuming.\n",
    "\n",
    "## 7. Conclusion and Future Trends\n",
    "\n",
    "We've journeyed through the fascinating world of cryptography, from its basic building blocks to real-world applications. Here are some key takeaways:\n",
    "\n",
    "1. Cryptography is essential for secure communication and data protection in the digital age.\n",
    "2. Symmetric encryption is fast but has key distribution challenges.\n",
    "3. Public-key cryptography solves the key distribution problem but is computationally intensive.\n",
    "4. Hash functions provide data integrity and are crucial for digital signatures and blockchain technology.\n",
    "5. Real-world cryptography combines these elements to create secure systems.\n",
    "\n",
    "Looking to the future, several trends are shaping the field of cryptography:\n",
    "\n",
    "1. **Post-quantum cryptography**: As quantum computers advance, researchers are developing new algorithms resistant to quantum attacks.\n",
    "\n",
    "2. **Homomorphic encryption**: This allows computations on encrypted data without decrypting it, enabling secure cloud computing.\n",
    "\n",
    "3. **Zero-knowledge proofs**: These allow one party to prove they know something without revealing the information itself, enhancing privacy in blockchain and other applications.\n",
    "\n",
    "4. **Lightweight cryptography**: As IoT devices proliferate, there's a growing need for cryptographic algorithms that can run on devices with limited computational power.\n",
    "\n",
    "5. **Blockchain and decentralized systems**: Continued innovation in this space is driving new cryptographic protocols and applications.\n",
    "\n",
    "As we've seen, cryptography is a powerful tool that underpins much of our digital infrastructure. By understanding its principles, we can better appreciate the security of our digital world and contribute to its ongoing evolution.\n",
    "\n",
    "Remember, the security of cryptographic systems often relies not just on the mathematics, but on their correct implementation and use. As the saying goes, \"Cryptography is like a safe with a glass window.\" It's crucial to consider the entire system, not just the algorithms, when designing secure solutions.\n",
    "\n",
    "Keep exploring, stay curious, and always keep security in mind as you build and use digital systems!"
   ]
  },
  {
   "cell_type": "code",
   "execution_count": null,
   "id": "afedb5d2-57df-4d94-b42a-02aac9b4f545",
   "metadata": {},
   "outputs": [],
   "source": []
  }
 ],
 "metadata": {
  "kernelspec": {
   "display_name": "Python 3 (ipykernel)",
   "language": "python",
   "name": "python3"
  },
  "language_info": {
   "codemirror_mode": {
    "name": "ipython",
    "version": 3
   },
   "file_extension": ".py",
   "mimetype": "text/x-python",
   "name": "python",
   "nbconvert_exporter": "python",
   "pygments_lexer": "ipython3",
   "version": "3.12.4"
  }
 },
 "nbformat": 4,
 "nbformat_minor": 5
}
