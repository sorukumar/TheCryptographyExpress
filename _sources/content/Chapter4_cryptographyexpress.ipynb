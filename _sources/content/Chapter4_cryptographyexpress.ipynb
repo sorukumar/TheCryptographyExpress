{
 "cells": [
  {
   "cell_type": "markdown",
   "id": "3d75f694-4e61-41d7-adec-dbe9396af2c6",
   "metadata": {},
   "source": [
    "# Chapter 4: Hash Functions\n",
    "\n",
    "Imagine a magical paper shredder that always produces the same pattern of confetti for the same document, no matter how many times you shred it. That's the essence of a hash function!\n",
    "\n",
    "## How Hash Functions Work\n",
    "\n",
    "1. You feed any amount of data into the hash function.\n",
    "2. It produces a fixed-size output, called a hash or digest (e.g., 256 bits for SHA-256).\n",
    "3. The same input always produces the same output.\n",
    "4. It's practically impossible to reverse the process or find two different inputs that produce the same output.\n",
    "\n",
    "Hash functions are like digital fingerprints. They uniquely identify data without revealing the data itself.\n",
    "\n",
    "## A Simple Example: Custom Hash Function\n",
    "\n",
    "Let's start with a simple (but insecure) hash function to illustrate the concept:"
   ]
  },
  {
   "cell_type": "code",
   "execution_count": 1,
   "id": "f75ebd10-5760-4e76-a5ae-10d5d019fc4d",
   "metadata": {},
   "outputs": [
    {
     "name": "stdout",
     "output_type": "stream",
     "text": [
      "Hash of 'Hello, World!': 5955b815\n",
      "Hash of 'Hello, World': e1d9798c\n"
     ]
    }
   ],
   "source": [
    "def simple_hash(message):\n",
    "  hash_value = 0\n",
    "  for char in message:\n",
    "      hash_value = (hash_value * 31 + ord(char)) & 0xFFFFFFFF\n",
    "  return hex(hash_value)[2:].zfill(8)\n",
    "\n",
    "# Example usage\n",
    "message1 = \"Hello, World!\"\n",
    "message2 = \"Hello, World\"\n",
    "\n",
    "print(f\"Hash of '{message1}': {simple_hash(message1)}\")\n",
    "print(f\"Hash of '{message2}': {simple_hash(message2)}\")"
   ]
  },
  {
   "cell_type": "markdown",
   "id": "aa05cb76-f8a8-4e07-8e67-5e84dd40986a",
   "metadata": {},
   "source": [
    "This simple hash function demonstrates the basic concept, but it's not cryptographically secure. In practice, we use well-tested hash functions like SHA-256.\n",
    "\n",
    "## SHA-256 in Action\n",
    "\n",
    "SHA-256 is widely used in cryptocurrencies like Bitcoin. Let's see how it works:"
   ]
  },
  {
   "cell_type": "code",
   "execution_count": 2,
   "id": "868fee20-0946-4502-aa0c-b9efba8cb5f5",
   "metadata": {},
   "outputs": [
    {
     "name": "stdout",
     "output_type": "stream",
     "text": [
      "SHA-256 of 'Hello, World!': dffd6021bb2bd5b0af676290809ec3a53191dd81c7f70a4b28688a362182986f\n",
      "SHA-256 of 'Hello, World': 03675ac53ff9cd1535ccc7dfcdfa2c458c5218371f418dc136f2d19ac1fbe8a5\n"
     ]
    }
   ],
   "source": [
    "import hashlib\n",
    "\n",
    "def sha256_hash(message):\n",
    "  return hashlib.sha256(message.encode()).hexdigest()\n",
    "\n",
    "# Example usage\n",
    "message1 = \"Hello, World!\"\n",
    "message2 = \"Hello, World\"\n",
    "\n",
    "print(f\"SHA-256 of '{message1}': {sha256_hash(message1)}\")\n",
    "print(f\"SHA-256 of '{message2}': {sha256_hash(message2)}\")"
   ]
  },
  {
   "cell_type": "markdown",
   "id": "6b1fd33b-48ce-4712-adb8-d86bb312482a",
   "metadata": {},
   "source": [
    "Notice how even a small change in the input produces a completely different hash output. This is known as the avalanche effect.\n",
    "\n",
    "## Pros and Cons of Hash Functions\n",
    "\n",
    "Pros:\n",
    "1. Fast to compute\n",
    "2. Deterministic (same input always produces the same output)\n",
    "3. Avalanche effect (small changes in input cause large changes in output)\n",
    "4. Useful for data integrity checks and password storage\n",
    "\n",
    "Cons:\n",
    "1. Potential for collisions (though extremely rare for secure hash functions)\n",
    "2. Cannot be reversed to obtain the original input\n",
    "3. Not suitable for encrypting data (since they're not reversible)\n",
    "\n",
    "## Real-world Applications\n",
    "\n",
    "1. Password storage: Hash functions securely store passwords by hashing them before saving.\n",
    "2. Data integrity: Hashes verify that data hasn't been altered during transmission.\n",
    "3. Blockchain: Hash functions link blocks securely in a blockchain.\n",
    "\n",
    "## What We Learned\n",
    "- Hash functions create a unique, fixed-size output for any input.\n",
    "- They're like digital fingerprints, ensuring data integrity.\n",
    "- SHA-256 is a widely used, secure hash function.\n",
    "- Hash functions are crucial for password security and blockchain technology.\n",
    "\n",
    "## Quick Check: Did You Get It?\n",
    "\n",
    "Let's see if you caught the main ideas:\n",
    "\n",
    "1. What do we call the fixed-size output of a hash function? (Hint: It starts with 'H')\n",
    "2. Which hash function is commonly used in Bitcoin? (Hint: It's three letters and a number)\n",
    "3. What effect describes how small input changes cause large output changes? (Hint: It's a weather phenomenon)\n",
    "\n",
    "Think about your answers, then check below!\n",
    "\n",
    "<details>\n",
    "<summary>Click to see the answers</summary>\n",
    "\n",
    "1. Hash\n",
    "2. SHA-256\n",
    "3. Avalanche effect\n",
    "\n",
    "Great job if you got them all!\n",
    "</details>"
   ]
  }
 ],
 "metadata": {
  "kernelspec": {
   "display_name": "Python 3 (ipykernel)",
   "language": "python",
   "name": "python3"
  },
  "language_info": {
   "codemirror_mode": {
    "name": "ipython",
    "version": 3
   },
   "file_extension": ".py",
   "mimetype": "text/x-python",
   "name": "python",
   "nbconvert_exporter": "python",
   "pygments_lexer": "ipython3",
   "version": "3.12.4"
  }
 },
 "nbformat": 4,
 "nbformat_minor": 5
}
