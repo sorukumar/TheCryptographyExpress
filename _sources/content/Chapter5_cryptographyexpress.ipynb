{
 "cells": [
  {
   "cell_type": "markdown",
   "id": "75bee6c5-c407-42c2-a779-353f24d745bf",
   "metadata": {},
   "source": [
    "# Chapter 5: Cryptography in Practice\n",
    "\n",
    "Now that we've covered the building blocks of cryptography, let's see how they're used in the real world. Cryptography isn't just about keeping secrets; it's about ensuring trust, authenticity, and integrity in our digital lives.\n",
    "\n",
    "## Digital Signatures\n",
    "\n",
    "Digital signatures are like electronic fingerprints. They allow you to verify the authenticity and integrity of digital messages or documents. Here's how they work:\n",
    "\n",
    "1. The sender creates a hash of the message.\n",
    "2. The sender encrypts the hash with their private key, creating a digital signature.\n",
    "3. The receiver decrypts the signature using the sender's public key.\n",
    "4. The receiver also hashes the received message.\n",
    "5. If the decrypted hash matches the newly computed hash, the signature is valid.\n",
    "\n",
    "This process ensures that the message is from the claimed sender and hasn't been altered.\n",
    "\n",
    "## Key Exchange Protocols\n",
    "\n",
    "Key exchange protocols solve a fundamental problem: how do two parties agree on a shared secret key over an insecure channel? The most famous of these is the Diffie-Hellman key exchange.\n",
    "\n",
    "Here's how Diffie-Hellman works, intuitively:\n",
    "\n",
    "1. Alice and Bob agree on a public color, say yellow.\n",
    "2. They each choose a secret color (red for Alice, blue for Bob).\n",
    "3. They mix their secret color with the public yellow.\n",
    "4. They exchange these mixed colors.\n",
    "5. They each mix their secret color with the received mixed color.\n",
    "6. They end up with the same final color, which no eavesdropper can determine.\n",
    "\n",
    "Let's implement a simple version of Diffie-Hellman:"
   ]
  },
  {
   "cell_type": "code",
   "execution_count": 1,
   "id": "eaa82411-1879-492e-bd66-50f44516122f",
   "metadata": {},
   "outputs": [
    {
     "name": "stdout",
     "output_type": "stream",
     "text": [
      "Alice's shared secret: 19\n",
      "Bob's shared secret: 19\n"
     ]
    }
   ],
   "source": [
    "import random\n",
    "\n",
    "def generate_prime():\n",
    "  # In practice, use a cryptographically secure prime\n",
    "  return 23\n",
    "\n",
    "def generate_primitive_root(prime):\n",
    "  # In practice, find a true primitive root\n",
    "  return 5\n",
    "\n",
    "def generate_private_key(prime):\n",
    "  return random.randint(1, prime - 1)\n",
    "\n",
    "def compute_public_key(prime, primitive_root, private_key):\n",
    "  return pow(primitive_root, private_key, prime)\n",
    "\n",
    "def compute_shared_secret(prime, public_key, private_key):\n",
    "  return pow(public_key, private_key, prime)\n",
    "\n",
    "# Example usage\n",
    "prime = generate_prime()\n",
    "primitive_root = generate_primitive_root(prime)\n",
    "\n",
    "alice_private = generate_private_key(prime)\n",
    "bob_private = generate_private_key(prime)\n",
    "\n",
    "alice_public = compute_public_key(prime, primitive_root, alice_private)\n",
    "bob_public = compute_public_key(prime, primitive_root, bob_private)\n",
    "\n",
    "alice_shared = compute_shared_secret(prime, bob_public, alice_private)\n",
    "bob_shared = compute_shared_secret(prime, alice_public, bob_private)\n",
    "\n",
    "print(f\"Alice's shared secret: {alice_shared}\")\n",
    "print(f\"Bob's shared secret: {bob_shared}\")"
   ]
  },
  {
   "cell_type": "markdown",
   "id": "8e27e9fb-e62d-4a4f-8c7c-2a9012c59050",
   "metadata": {},
   "source": [
    "## Blockchain and Cryptocurrencies\n",
    "\n",
    "Blockchain technology, which underlies cryptocurrencies like Bitcoin, relies heavily on cryptographic principles. Let's look at how SHA-256 is used in Bitcoin mining.\n",
    "\n",
    "In Bitcoin, miners compete to find a number (nonce) that, when combined with the block data, produces a hash with a certain number of leading zeros. This is called the Proof of Work.\n",
    "\n",
    "Here's a simplified version of Bitcoin mining:"
   ]
  },
  {
   "cell_type": "code",
   "execution_count": 2,
   "id": "8c9e7a4b-fb10-4166-b02b-c44f23d3a4f3",
   "metadata": {},
   "outputs": [
    {
     "name": "stdout",
     "output_type": "stream",
     "text": [
      "Block data: Transaction data: Alice sends 1 BTC to Bob\n",
      "Nonce found: 52144\n",
      "Hash: 000026b0792fe4ab5f18b9ba9e3140c64b5554c221940cbcfca7537c28345eaa\n",
      "Mining took 0.07 seconds\n"
     ]
    }
   ],
   "source": [
    "import hashlib\n",
    "import time\n",
    "\n",
    "def mine_block(block_data, difficulty):\n",
    "  target = \"0\" * difficulty\n",
    "  nonce = 0\n",
    "  start_time = time.time()\n",
    "  \n",
    "  while True:\n",
    "      block = f\"{block_data}{nonce}\".encode()\n",
    "      hash_result = hashlib.sha256(block).hexdigest()\n",
    "      \n",
    "      if hash_result.startswith(target):\n",
    "          end_time = time.time()\n",
    "          return nonce, hash_result, end_time - start_time\n",
    "      \n",
    "      nonce += 1\n",
    "\n",
    "# Example usage\n",
    "block_data = \"Transaction data: Alice sends 1 BTC to Bob\"\n",
    "difficulty = 4\n",
    "\n",
    "nonce, hash_result, duration = mine_block(block_data, difficulty)\n",
    "\n",
    "print(f\"Block data: {block_data}\")\n",
    "print(f\"Nonce found: {nonce}\")\n",
    "print(f\"Hash: {hash_result}\")\n",
    "print(f\"Mining took {duration:.2f} seconds\")"
   ]
  },
  {
   "cell_type": "markdown",
   "id": "72793413-90a8-4aa2-a2d2-b17e24c2191e",
   "metadata": {},
   "source": [
    "## What We Learned\n",
    "\n",
    "- Digital signatures ensure the authenticity and integrity of messages.\n",
    "- Key exchange protocols like Diffie-Hellman allow secure key sharing over insecure channels.\n",
    "- Blockchain technology uses cryptographic principles to secure transactions and maintain integrity.\n",
    "\n",
    "## Quick Check: Did You Get It?\n",
    "\n",
    "Let's see if you caught the main ideas:\n",
    "\n",
    "1. What do digital signatures verify? (Hint: Two things - starts with 'A' and 'I')\n",
    "2. Which protocol helps two parties agree on a shared secret key? (Hint: It's named after two people)\n",
    "3. What is the process called where miners find a nonce in Bitcoin? (Hint: It's a type of work)\n",
    "\n",
    "Think about your answers, then check below!\n",
    "\n",
    "<details>\n",
    "<summary>Click to see the answers</summary>\n",
    "\n",
    "1. Authenticity and Integrity\n",
    "2. Diffie-Hellman\n",
    "3. Proof of Work\n",
    "\n",
    "Great job if you got them all!\n",
    "</details>"
   ]
  }
 ],
 "metadata": {
  "kernelspec": {
   "display_name": "Python 3 (ipykernel)",
   "language": "python",
   "name": "python3"
  },
  "language_info": {
   "codemirror_mode": {
    "name": "ipython",
    "version": 3
   },
   "file_extension": ".py",
   "mimetype": "text/x-python",
   "name": "python",
   "nbconvert_exporter": "python",
   "pygments_lexer": "ipython3",
   "version": "3.12.4"
  }
 },
 "nbformat": 4,
 "nbformat_minor": 5
}
